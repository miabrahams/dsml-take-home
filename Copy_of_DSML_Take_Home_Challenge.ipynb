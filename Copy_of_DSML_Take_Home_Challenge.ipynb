{
  "cells": [
    {
      "cell_type": "markdown",
      "metadata": {
        "id": "view-in-github",
        "colab_type": "text"
      },
      "source": [
        "<a href=\"https://colab.research.google.com/github/miabrahams/dsml-take-home/blob/main/Copy_of_DSML_Take_Home_Challenge.ipynb\" target=\"_parent\"><img src=\"https://colab.research.google.com/assets/colab-badge.svg\" alt=\"Open In Colab\"/></a>"
      ]
    },
    {
      "cell_type": "markdown",
      "id": "918de094",
      "metadata": {
        "id": "918de094"
      },
      "source": [
        "# Codesmith Take Home Challenge\n",
        "\n",
        "For this take home challenge you will be using foundational data science python libraries to analyze a dataset related to diabetes patients and develop a basic logistic regression model.\n",
        "\n",
        "The libraries we will be using are:\n",
        " - [Pandas](https://pandas.pydata.org/)\n",
        " - [Sklearn](https://scikit-learn.org/stable/)\n",
        " - [Matplotlib](https://www.w3schools.com/python/matplotlib_pyplot.asp)\n",
        " - [Numpy](https://numpy.org/)\n",
        "\n",
        "The data is collected from the Behavioral Risk Factor Surveillance System (BRFSS) dataset and provided by [Kaggle](https://www.kaggle.com/competitions/diabetes-prediction-competitiontfug-chd-nov-2022/data). You can view the raw data [here](https://raw.githubusercontent.com/CodesmithLLC/dsml-datasets/main/train_dataset.csv).\n",
        "\n",
        "Submit your answers to the prompts [here](https://forms.gle/66VdMARikw7BAYs97)\n",
        "\n",
        "## Getting Started\n",
        "- Make a copy of this notebook and name `DSML_Admissions_{Your Initials}.py` (File -> Save a Copy in Drive)\n",
        "- Complete the challenges below. Answer each question in a separate cell.\n",
        "- Submit your answers questions in the take home form."
      ]
    },
    {
      "cell_type": "markdown",
      "source": [
        "## Challenge 1\n",
        "Use the pandas library to explore the provided dataset and answer the questions in the Google Form.\n",
        "\n",
        "## Do's and Don'ts\n",
        "\n",
        "Only use Pandas to gather information about this dataset. Do not load the data file with an external program like Excel or Google Sheet."
      ],
      "metadata": {
        "id": "2KC8Ik-90g0o"
      },
      "id": "2KC8Ik-90g0o"
    },
    {
      "cell_type": "code",
      "execution_count": null,
      "id": "62dd99ff",
      "metadata": {
        "id": "62dd99ff"
      },
      "outputs": [],
      "source": [
        "%%capture\n",
        "!python3 -m pip install --upgrade pip setuptools wheel request\n",
        "!pip3 install pandas sklearn matplotlib numpy"
      ]
    },
    {
      "cell_type": "code",
      "execution_count": null,
      "id": "d773f6a4",
      "metadata": {
        "id": "d773f6a4"
      },
      "outputs": [],
      "source": [
        "import pandas as pd"
      ]
    },
    {
      "cell_type": "code",
      "execution_count": null,
      "id": "3a8b67bb",
      "metadata": {
        "id": "3a8b67bb",
        "colab": {
          "base_uri": "https://localhost:8080/",
          "height": 487
        },
        "outputId": "cfe017a8-9800-4305-892d-9a0e831af92e"
      },
      "outputs": [
        {
          "output_type": "execute_result",
          "data": {
            "text/plain": [
              "        Age  Sex  HighChol  CholCheck   BMI  Smoker  HeartDiseaseorAttack  \\\n",
              "0       5.0  1.0       1.0        1.0  26.0     1.0                   0.0   \n",
              "1      11.0  0.0       1.0        1.0  39.0     1.0                   0.0   \n",
              "2      11.0  0.0       0.0        1.0  20.0     1.0                   1.0   \n",
              "3      10.0  1.0       1.0        1.0  34.0     0.0                   1.0   \n",
              "4       7.0  1.0       1.0        1.0  33.0     1.0                   0.0   \n",
              "...     ...  ...       ...        ...   ...     ...                   ...   \n",
              "58288   9.0  1.0       1.0        1.0  27.0     0.0                   0.0   \n",
              "58289   8.0  1.0       0.0        1.0  27.0     0.0                   0.0   \n",
              "58290   9.0  1.0       0.0        1.0  36.0     1.0                   0.0   \n",
              "58291   9.0  1.0       0.0        1.0  25.0     0.0                   0.0   \n",
              "58292   9.0  0.0       1.0        1.0  28.0     1.0                   0.0   \n",
              "\n",
              "       PhysActivity  Fruits  Veggies  HvyAlcoholConsump  GenHlth  MentHlth  \\\n",
              "0               0.0     1.0      0.0                0.0      3.0       2.0   \n",
              "1               0.0     1.0      1.0                0.0      4.0      20.0   \n",
              "2               1.0     0.0      1.0                0.0      3.0       0.0   \n",
              "3               1.0     0.0      0.0                0.0      5.0       0.0   \n",
              "4               1.0     1.0      0.0                0.0      1.0       0.0   \n",
              "...             ...     ...      ...                ...      ...       ...   \n",
              "58288           1.0     1.0      0.0                0.0      3.0       0.0   \n",
              "58289           1.0     0.0      1.0                0.0      2.0       0.0   \n",
              "58290           1.0     0.0      0.0                0.0      4.0       0.0   \n",
              "58291           1.0     1.0      1.0                0.0      3.0       0.0   \n",
              "58292           0.0     1.0      1.0                0.0      4.0       0.0   \n",
              "\n",
              "       PhysHlth  DiffWalk  Diabetes  Hypertension  Stroke  \n",
              "0           0.0       0.0       1.0           0.0     0.0  \n",
              "1          30.0       1.0       1.0           1.0     1.0  \n",
              "2           0.0       0.0       0.0           1.0     0.0  \n",
              "3          30.0       1.0       1.0           1.0     0.0  \n",
              "4           0.0       0.0       0.0           0.0     0.0  \n",
              "...         ...       ...       ...           ...     ...  \n",
              "58288       3.0       0.0       1.0           1.0     0.0  \n",
              "58289       4.0       0.0       0.0           0.0     0.0  \n",
              "58290      30.0       1.0       1.0           1.0     0.0  \n",
              "58291       0.0       0.0       0.0           0.0     0.0  \n",
              "58292       0.0       0.0       0.0           0.0     0.0  \n",
              "\n",
              "[58293 rows x 18 columns]"
            ],
            "text/html": [
              "\n",
              "\n",
              "  <div id=\"df-16b30cc1-0843-4bef-8b78-22878588cbb3\">\n",
              "    <div class=\"colab-df-container\">\n",
              "      <div>\n",
              "<style scoped>\n",
              "    .dataframe tbody tr th:only-of-type {\n",
              "        vertical-align: middle;\n",
              "    }\n",
              "\n",
              "    .dataframe tbody tr th {\n",
              "        vertical-align: top;\n",
              "    }\n",
              "\n",
              "    .dataframe thead th {\n",
              "        text-align: right;\n",
              "    }\n",
              "</style>\n",
              "<table border=\"1\" class=\"dataframe\">\n",
              "  <thead>\n",
              "    <tr style=\"text-align: right;\">\n",
              "      <th></th>\n",
              "      <th>Age</th>\n",
              "      <th>Sex</th>\n",
              "      <th>HighChol</th>\n",
              "      <th>CholCheck</th>\n",
              "      <th>BMI</th>\n",
              "      <th>Smoker</th>\n",
              "      <th>HeartDiseaseorAttack</th>\n",
              "      <th>PhysActivity</th>\n",
              "      <th>Fruits</th>\n",
              "      <th>Veggies</th>\n",
              "      <th>HvyAlcoholConsump</th>\n",
              "      <th>GenHlth</th>\n",
              "      <th>MentHlth</th>\n",
              "      <th>PhysHlth</th>\n",
              "      <th>DiffWalk</th>\n",
              "      <th>Diabetes</th>\n",
              "      <th>Hypertension</th>\n",
              "      <th>Stroke</th>\n",
              "    </tr>\n",
              "  </thead>\n",
              "  <tbody>\n",
              "    <tr>\n",
              "      <th>0</th>\n",
              "      <td>5.0</td>\n",
              "      <td>1.0</td>\n",
              "      <td>1.0</td>\n",
              "      <td>1.0</td>\n",
              "      <td>26.0</td>\n",
              "      <td>1.0</td>\n",
              "      <td>0.0</td>\n",
              "      <td>0.0</td>\n",
              "      <td>1.0</td>\n",
              "      <td>0.0</td>\n",
              "      <td>0.0</td>\n",
              "      <td>3.0</td>\n",
              "      <td>2.0</td>\n",
              "      <td>0.0</td>\n",
              "      <td>0.0</td>\n",
              "      <td>1.0</td>\n",
              "      <td>0.0</td>\n",
              "      <td>0.0</td>\n",
              "    </tr>\n",
              "    <tr>\n",
              "      <th>1</th>\n",
              "      <td>11.0</td>\n",
              "      <td>0.0</td>\n",
              "      <td>1.0</td>\n",
              "      <td>1.0</td>\n",
              "      <td>39.0</td>\n",
              "      <td>1.0</td>\n",
              "      <td>0.0</td>\n",
              "      <td>0.0</td>\n",
              "      <td>1.0</td>\n",
              "      <td>1.0</td>\n",
              "      <td>0.0</td>\n",
              "      <td>4.0</td>\n",
              "      <td>20.0</td>\n",
              "      <td>30.0</td>\n",
              "      <td>1.0</td>\n",
              "      <td>1.0</td>\n",
              "      <td>1.0</td>\n",
              "      <td>1.0</td>\n",
              "    </tr>\n",
              "    <tr>\n",
              "      <th>2</th>\n",
              "      <td>11.0</td>\n",
              "      <td>0.0</td>\n",
              "      <td>0.0</td>\n",
              "      <td>1.0</td>\n",
              "      <td>20.0</td>\n",
              "      <td>1.0</td>\n",
              "      <td>1.0</td>\n",
              "      <td>1.0</td>\n",
              "      <td>0.0</td>\n",
              "      <td>1.0</td>\n",
              "      <td>0.0</td>\n",
              "      <td>3.0</td>\n",
              "      <td>0.0</td>\n",
              "      <td>0.0</td>\n",
              "      <td>0.0</td>\n",
              "      <td>0.0</td>\n",
              "      <td>1.0</td>\n",
              "      <td>0.0</td>\n",
              "    </tr>\n",
              "    <tr>\n",
              "      <th>3</th>\n",
              "      <td>10.0</td>\n",
              "      <td>1.0</td>\n",
              "      <td>1.0</td>\n",
              "      <td>1.0</td>\n",
              "      <td>34.0</td>\n",
              "      <td>0.0</td>\n",
              "      <td>1.0</td>\n",
              "      <td>1.0</td>\n",
              "      <td>0.0</td>\n",
              "      <td>0.0</td>\n",
              "      <td>0.0</td>\n",
              "      <td>5.0</td>\n",
              "      <td>0.0</td>\n",
              "      <td>30.0</td>\n",
              "      <td>1.0</td>\n",
              "      <td>1.0</td>\n",
              "      <td>1.0</td>\n",
              "      <td>0.0</td>\n",
              "    </tr>\n",
              "    <tr>\n",
              "      <th>4</th>\n",
              "      <td>7.0</td>\n",
              "      <td>1.0</td>\n",
              "      <td>1.0</td>\n",
              "      <td>1.0</td>\n",
              "      <td>33.0</td>\n",
              "      <td>1.0</td>\n",
              "      <td>0.0</td>\n",
              "      <td>1.0</td>\n",
              "      <td>1.0</td>\n",
              "      <td>0.0</td>\n",
              "      <td>0.0</td>\n",
              "      <td>1.0</td>\n",
              "      <td>0.0</td>\n",
              "      <td>0.0</td>\n",
              "      <td>0.0</td>\n",
              "      <td>0.0</td>\n",
              "      <td>0.0</td>\n",
              "      <td>0.0</td>\n",
              "    </tr>\n",
              "    <tr>\n",
              "      <th>...</th>\n",
              "      <td>...</td>\n",
              "      <td>...</td>\n",
              "      <td>...</td>\n",
              "      <td>...</td>\n",
              "      <td>...</td>\n",
              "      <td>...</td>\n",
              "      <td>...</td>\n",
              "      <td>...</td>\n",
              "      <td>...</td>\n",
              "      <td>...</td>\n",
              "      <td>...</td>\n",
              "      <td>...</td>\n",
              "      <td>...</td>\n",
              "      <td>...</td>\n",
              "      <td>...</td>\n",
              "      <td>...</td>\n",
              "      <td>...</td>\n",
              "      <td>...</td>\n",
              "    </tr>\n",
              "    <tr>\n",
              "      <th>58288</th>\n",
              "      <td>9.0</td>\n",
              "      <td>1.0</td>\n",
              "      <td>1.0</td>\n",
              "      <td>1.0</td>\n",
              "      <td>27.0</td>\n",
              "      <td>0.0</td>\n",
              "      <td>0.0</td>\n",
              "      <td>1.0</td>\n",
              "      <td>1.0</td>\n",
              "      <td>0.0</td>\n",
              "      <td>0.0</td>\n",
              "      <td>3.0</td>\n",
              "      <td>0.0</td>\n",
              "      <td>3.0</td>\n",
              "      <td>0.0</td>\n",
              "      <td>1.0</td>\n",
              "      <td>1.0</td>\n",
              "      <td>0.0</td>\n",
              "    </tr>\n",
              "    <tr>\n",
              "      <th>58289</th>\n",
              "      <td>8.0</td>\n",
              "      <td>1.0</td>\n",
              "      <td>0.0</td>\n",
              "      <td>1.0</td>\n",
              "      <td>27.0</td>\n",
              "      <td>0.0</td>\n",
              "      <td>0.0</td>\n",
              "      <td>1.0</td>\n",
              "      <td>0.0</td>\n",
              "      <td>1.0</td>\n",
              "      <td>0.0</td>\n",
              "      <td>2.0</td>\n",
              "      <td>0.0</td>\n",
              "      <td>4.0</td>\n",
              "      <td>0.0</td>\n",
              "      <td>0.0</td>\n",
              "      <td>0.0</td>\n",
              "      <td>0.0</td>\n",
              "    </tr>\n",
              "    <tr>\n",
              "      <th>58290</th>\n",
              "      <td>9.0</td>\n",
              "      <td>1.0</td>\n",
              "      <td>0.0</td>\n",
              "      <td>1.0</td>\n",
              "      <td>36.0</td>\n",
              "      <td>1.0</td>\n",
              "      <td>0.0</td>\n",
              "      <td>1.0</td>\n",
              "      <td>0.0</td>\n",
              "      <td>0.0</td>\n",
              "      <td>0.0</td>\n",
              "      <td>4.0</td>\n",
              "      <td>0.0</td>\n",
              "      <td>30.0</td>\n",
              "      <td>1.0</td>\n",
              "      <td>1.0</td>\n",
              "      <td>1.0</td>\n",
              "      <td>0.0</td>\n",
              "    </tr>\n",
              "    <tr>\n",
              "      <th>58291</th>\n",
              "      <td>9.0</td>\n",
              "      <td>1.0</td>\n",
              "      <td>0.0</td>\n",
              "      <td>1.0</td>\n",
              "      <td>25.0</td>\n",
              "      <td>0.0</td>\n",
              "      <td>0.0</td>\n",
              "      <td>1.0</td>\n",
              "      <td>1.0</td>\n",
              "      <td>1.0</td>\n",
              "      <td>0.0</td>\n",
              "      <td>3.0</td>\n",
              "      <td>0.0</td>\n",
              "      <td>0.0</td>\n",
              "      <td>0.0</td>\n",
              "      <td>0.0</td>\n",
              "      <td>0.0</td>\n",
              "      <td>0.0</td>\n",
              "    </tr>\n",
              "    <tr>\n",
              "      <th>58292</th>\n",
              "      <td>9.0</td>\n",
              "      <td>0.0</td>\n",
              "      <td>1.0</td>\n",
              "      <td>1.0</td>\n",
              "      <td>28.0</td>\n",
              "      <td>1.0</td>\n",
              "      <td>0.0</td>\n",
              "      <td>0.0</td>\n",
              "      <td>1.0</td>\n",
              "      <td>1.0</td>\n",
              "      <td>0.0</td>\n",
              "      <td>4.0</td>\n",
              "      <td>0.0</td>\n",
              "      <td>0.0</td>\n",
              "      <td>0.0</td>\n",
              "      <td>0.0</td>\n",
              "      <td>0.0</td>\n",
              "      <td>0.0</td>\n",
              "    </tr>\n",
              "  </tbody>\n",
              "</table>\n",
              "<p>58293 rows × 18 columns</p>\n",
              "</div>\n",
              "      <button class=\"colab-df-convert\" onclick=\"convertToInteractive('df-16b30cc1-0843-4bef-8b78-22878588cbb3')\"\n",
              "              title=\"Convert this dataframe to an interactive table.\"\n",
              "              style=\"display:none;\">\n",
              "\n",
              "  <svg xmlns=\"http://www.w3.org/2000/svg\" height=\"24px\"viewBox=\"0 0 24 24\"\n",
              "       width=\"24px\">\n",
              "    <path d=\"M0 0h24v24H0V0z\" fill=\"none\"/>\n",
              "    <path d=\"M18.56 5.44l.94 2.06.94-2.06 2.06-.94-2.06-.94-.94-2.06-.94 2.06-2.06.94zm-11 1L8.5 8.5l.94-2.06 2.06-.94-2.06-.94L8.5 2.5l-.94 2.06-2.06.94zm10 10l.94 2.06.94-2.06 2.06-.94-2.06-.94-.94-2.06-.94 2.06-2.06.94z\"/><path d=\"M17.41 7.96l-1.37-1.37c-.4-.4-.92-.59-1.43-.59-.52 0-1.04.2-1.43.59L10.3 9.45l-7.72 7.72c-.78.78-.78 2.05 0 2.83L4 21.41c.39.39.9.59 1.41.59.51 0 1.02-.2 1.41-.59l7.78-7.78 2.81-2.81c.8-.78.8-2.07 0-2.86zM5.41 20L4 18.59l7.72-7.72 1.47 1.35L5.41 20z\"/>\n",
              "  </svg>\n",
              "      </button>\n",
              "\n",
              "\n",
              "\n",
              "    <div id=\"df-1563f014-ac46-4cb6-a5e4-bba493380a11\">\n",
              "      <button class=\"colab-df-quickchart\" onclick=\"quickchart('df-1563f014-ac46-4cb6-a5e4-bba493380a11')\"\n",
              "              title=\"Suggest charts.\"\n",
              "              style=\"display:none;\">\n",
              "\n",
              "<svg xmlns=\"http://www.w3.org/2000/svg\" height=\"24px\"viewBox=\"0 0 24 24\"\n",
              "     width=\"24px\">\n",
              "    <g>\n",
              "        <path d=\"M19 3H5c-1.1 0-2 .9-2 2v14c0 1.1.9 2 2 2h14c1.1 0 2-.9 2-2V5c0-1.1-.9-2-2-2zM9 17H7v-7h2v7zm4 0h-2V7h2v10zm4 0h-2v-4h2v4z\"/>\n",
              "    </g>\n",
              "</svg>\n",
              "      </button>\n",
              "    </div>\n",
              "\n",
              "<style>\n",
              "  .colab-df-quickchart {\n",
              "    background-color: #E8F0FE;\n",
              "    border: none;\n",
              "    border-radius: 50%;\n",
              "    cursor: pointer;\n",
              "    display: none;\n",
              "    fill: #1967D2;\n",
              "    height: 32px;\n",
              "    padding: 0 0 0 0;\n",
              "    width: 32px;\n",
              "  }\n",
              "\n",
              "  .colab-df-quickchart:hover {\n",
              "    background-color: #E2EBFA;\n",
              "    box-shadow: 0px 1px 2px rgba(60, 64, 67, 0.3), 0px 1px 3px 1px rgba(60, 64, 67, 0.15);\n",
              "    fill: #174EA6;\n",
              "  }\n",
              "\n",
              "  [theme=dark] .colab-df-quickchart {\n",
              "    background-color: #3B4455;\n",
              "    fill: #D2E3FC;\n",
              "  }\n",
              "\n",
              "  [theme=dark] .colab-df-quickchart:hover {\n",
              "    background-color: #434B5C;\n",
              "    box-shadow: 0px 1px 3px 1px rgba(0, 0, 0, 0.15);\n",
              "    filter: drop-shadow(0px 1px 2px rgba(0, 0, 0, 0.3));\n",
              "    fill: #FFFFFF;\n",
              "  }\n",
              "</style>\n",
              "\n",
              "    <script>\n",
              "      async function quickchart(key) {\n",
              "        const containerElement = document.querySelector('#' + key);\n",
              "        const charts = await google.colab.kernel.invokeFunction(\n",
              "            'suggestCharts', [key], {});\n",
              "      }\n",
              "    </script>\n",
              "\n",
              "      <script>\n",
              "\n",
              "function displayQuickchartButton(domScope) {\n",
              "  let quickchartButtonEl =\n",
              "    domScope.querySelector('#df-1563f014-ac46-4cb6-a5e4-bba493380a11 button.colab-df-quickchart');\n",
              "  quickchartButtonEl.style.display =\n",
              "    google.colab.kernel.accessAllowed ? 'block' : 'none';\n",
              "}\n",
              "\n",
              "        displayQuickchartButton(document);\n",
              "      </script>\n",
              "      <style>\n",
              "    .colab-df-container {\n",
              "      display:flex;\n",
              "      flex-wrap:wrap;\n",
              "      gap: 12px;\n",
              "    }\n",
              "\n",
              "    .colab-df-convert {\n",
              "      background-color: #E8F0FE;\n",
              "      border: none;\n",
              "      border-radius: 50%;\n",
              "      cursor: pointer;\n",
              "      display: none;\n",
              "      fill: #1967D2;\n",
              "      height: 32px;\n",
              "      padding: 0 0 0 0;\n",
              "      width: 32px;\n",
              "    }\n",
              "\n",
              "    .colab-df-convert:hover {\n",
              "      background-color: #E2EBFA;\n",
              "      box-shadow: 0px 1px 2px rgba(60, 64, 67, 0.3), 0px 1px 3px 1px rgba(60, 64, 67, 0.15);\n",
              "      fill: #174EA6;\n",
              "    }\n",
              "\n",
              "    [theme=dark] .colab-df-convert {\n",
              "      background-color: #3B4455;\n",
              "      fill: #D2E3FC;\n",
              "    }\n",
              "\n",
              "    [theme=dark] .colab-df-convert:hover {\n",
              "      background-color: #434B5C;\n",
              "      box-shadow: 0px 1px 3px 1px rgba(0, 0, 0, 0.15);\n",
              "      filter: drop-shadow(0px 1px 2px rgba(0, 0, 0, 0.3));\n",
              "      fill: #FFFFFF;\n",
              "    }\n",
              "  </style>\n",
              "\n",
              "      <script>\n",
              "        const buttonEl =\n",
              "          document.querySelector('#df-16b30cc1-0843-4bef-8b78-22878588cbb3 button.colab-df-convert');\n",
              "        buttonEl.style.display =\n",
              "          google.colab.kernel.accessAllowed ? 'block' : 'none';\n",
              "\n",
              "        async function convertToInteractive(key) {\n",
              "          const element = document.querySelector('#df-16b30cc1-0843-4bef-8b78-22878588cbb3');\n",
              "          const dataTable =\n",
              "            await google.colab.kernel.invokeFunction('convertToInteractive',\n",
              "                                                     [key], {});\n",
              "          if (!dataTable) return;\n",
              "\n",
              "          const docLinkHtml = 'Like what you see? Visit the ' +\n",
              "            '<a target=\"_blank\" href=https://colab.research.google.com/notebooks/data_table.ipynb>data table notebook</a>'\n",
              "            + ' to learn more about interactive tables.';\n",
              "          element.innerHTML = '';\n",
              "          dataTable['output_type'] = 'display_data';\n",
              "          await google.colab.output.renderOutput(dataTable, element);\n",
              "          const docLink = document.createElement('div');\n",
              "          docLink.innerHTML = docLinkHtml;\n",
              "          element.appendChild(docLink);\n",
              "        }\n",
              "      </script>\n",
              "    </div>\n",
              "  </div>\n"
            ]
          },
          "metadata": {},
          "execution_count": 4
        }
      ],
      "source": [
        "train_dataset = pd.read_csv('https://raw.githubusercontent.com/CodesmithLLC/dsml-datasets/main/train_dataset.csv')\n",
        "train_dataset"
      ]
    },
    {
      "cell_type": "code",
      "source": [
        "# write pandas code here to answer Part 1 questions\n",
        "ds = train_dataset.describe()\n",
        "\n",
        "\n",
        "# 1.\n",
        "print(f\"Min BMI: {ds['BMI']['min']}    Max BMI: {ds['BMI']['max']}\")\n",
        "\n",
        "# 2.\n",
        "print(f\"High cholesterol: {train_dataset['HighChol'].sum(): n}\")\n",
        "\n",
        "# 3.\n",
        "print(f\"Average BMI for diabetic patients who are physically active: {train_dataset[(train_dataset['Diabetes'] == 1) & (train_dataset['PhysActivity'] == 1)]['BMI'].mean(): .1f}\")\n",
        "\n",
        "# 4.\n",
        "print(f\"Highest diabetes prevalence in age group: {train_dataset.groupby(['Age'])['Diabetes'].mean().sort_values().index[-1]: n}\")\n"
      ],
      "metadata": {
        "id": "4J0e5L-QO4df",
        "colab": {
          "base_uri": "https://localhost:8080/"
        },
        "outputId": "5568827b-44c1-4072-b9ec-09485e05c0cc"
      },
      "id": "4J0e5L-QO4df",
      "execution_count": null,
      "outputs": [
        {
          "output_type": "stream",
          "name": "stdout",
          "text": [
            "Min BMI: 12.0    Max BMI: 98.0\n",
            "High cholesterol:  31177\n",
            "Average BMI for diabetic patients who are physically active:  31.3\n",
            "Highest diabetes prevalence in age group:  11\n"
          ]
        }
      ]
    },
    {
      "cell_type": "markdown",
      "source": [
        "## Challenge 2\n",
        "\n",
        "Now that we have some familiarity with this dataset, we'll train a simple [logistic regression](https://www.youtube.com/watch?v=yIYKR4sgzI8) model using the Scikit-learn library. Your main task is to generate evaluation metrics to assess the model's performance, while the code for training the logistic model has been provided for you."
      ],
      "metadata": {
        "id": "HOJ_Hm-ZAIIJ"
      },
      "id": "HOJ_Hm-ZAIIJ"
    },
    {
      "cell_type": "code",
      "execution_count": null,
      "id": "dd4b181f",
      "metadata": {
        "id": "dd4b181f"
      },
      "outputs": [],
      "source": [
        "from sklearn.linear_model import LogisticRegression\n",
        "import matplotlib.pyplot as plt\n",
        "from sklearn.metrics import confusion_matrix, ConfusionMatrixDisplay\n",
        "from sklearn.metrics import roc_curve, roc_auc_score, RocCurveDisplay"
      ]
    },
    {
      "cell_type": "code",
      "source": [
        "model = LogisticRegression()"
      ],
      "metadata": {
        "id": "39wkQ5S8aeoe"
      },
      "id": "39wkQ5S8aeoe",
      "execution_count": null,
      "outputs": []
    },
    {
      "cell_type": "code",
      "source": [
        "test_dataset = pd.read_csv('https://raw.githubusercontent.com/CodesmithLLC/dsml-datasets/main/test_dataset.csv')"
      ],
      "metadata": {
        "id": "uMoRocUdah-l"
      },
      "id": "uMoRocUdah-l",
      "execution_count": null,
      "outputs": []
    },
    {
      "cell_type": "code",
      "source": [
        "train_X = train_dataset[['BMI', 'GenHlth', 'Age']]\n",
        "train_Y = train_dataset[['Diabetes']].values.reshape(-1)"
      ],
      "metadata": {
        "id": "MdiRs-WyRxLU"
      },
      "id": "MdiRs-WyRxLU",
      "execution_count": null,
      "outputs": []
    },
    {
      "cell_type": "code",
      "source": [
        "model.fit(train_X, train_Y)"
      ],
      "metadata": {
        "id": "7FjnHakdamgp",
        "colab": {
          "base_uri": "https://localhost:8080/",
          "height": 51
        },
        "outputId": "e6768014-1127-4000-db89-6bb946f0a263"
      },
      "id": "7FjnHakdamgp",
      "execution_count": null,
      "outputs": [
        {
          "output_type": "execute_result",
          "data": {
            "text/plain": [
              "LogisticRegression()"
            ],
            "text/html": [
              "<style>#sk-container-id-1 {color: black;background-color: white;}#sk-container-id-1 pre{padding: 0;}#sk-container-id-1 div.sk-toggleable {background-color: white;}#sk-container-id-1 label.sk-toggleable__label {cursor: pointer;display: block;width: 100%;margin-bottom: 0;padding: 0.3em;box-sizing: border-box;text-align: center;}#sk-container-id-1 label.sk-toggleable__label-arrow:before {content: \"▸\";float: left;margin-right: 0.25em;color: #696969;}#sk-container-id-1 label.sk-toggleable__label-arrow:hover:before {color: black;}#sk-container-id-1 div.sk-estimator:hover label.sk-toggleable__label-arrow:before {color: black;}#sk-container-id-1 div.sk-toggleable__content {max-height: 0;max-width: 0;overflow: hidden;text-align: left;background-color: #f0f8ff;}#sk-container-id-1 div.sk-toggleable__content pre {margin: 0.2em;color: black;border-radius: 0.25em;background-color: #f0f8ff;}#sk-container-id-1 input.sk-toggleable__control:checked~div.sk-toggleable__content {max-height: 200px;max-width: 100%;overflow: auto;}#sk-container-id-1 input.sk-toggleable__control:checked~label.sk-toggleable__label-arrow:before {content: \"▾\";}#sk-container-id-1 div.sk-estimator input.sk-toggleable__control:checked~label.sk-toggleable__label {background-color: #d4ebff;}#sk-container-id-1 div.sk-label input.sk-toggleable__control:checked~label.sk-toggleable__label {background-color: #d4ebff;}#sk-container-id-1 input.sk-hidden--visually {border: 0;clip: rect(1px 1px 1px 1px);clip: rect(1px, 1px, 1px, 1px);height: 1px;margin: -1px;overflow: hidden;padding: 0;position: absolute;width: 1px;}#sk-container-id-1 div.sk-estimator {font-family: monospace;background-color: #f0f8ff;border: 1px dotted black;border-radius: 0.25em;box-sizing: border-box;margin-bottom: 0.5em;}#sk-container-id-1 div.sk-estimator:hover {background-color: #d4ebff;}#sk-container-id-1 div.sk-parallel-item::after {content: \"\";width: 100%;border-bottom: 1px solid gray;flex-grow: 1;}#sk-container-id-1 div.sk-label:hover label.sk-toggleable__label {background-color: #d4ebff;}#sk-container-id-1 div.sk-serial::before {content: \"\";position: absolute;border-left: 1px solid gray;box-sizing: border-box;top: 0;bottom: 0;left: 50%;z-index: 0;}#sk-container-id-1 div.sk-serial {display: flex;flex-direction: column;align-items: center;background-color: white;padding-right: 0.2em;padding-left: 0.2em;position: relative;}#sk-container-id-1 div.sk-item {position: relative;z-index: 1;}#sk-container-id-1 div.sk-parallel {display: flex;align-items: stretch;justify-content: center;background-color: white;position: relative;}#sk-container-id-1 div.sk-item::before, #sk-container-id-1 div.sk-parallel-item::before {content: \"\";position: absolute;border-left: 1px solid gray;box-sizing: border-box;top: 0;bottom: 0;left: 50%;z-index: -1;}#sk-container-id-1 div.sk-parallel-item {display: flex;flex-direction: column;z-index: 1;position: relative;background-color: white;}#sk-container-id-1 div.sk-parallel-item:first-child::after {align-self: flex-end;width: 50%;}#sk-container-id-1 div.sk-parallel-item:last-child::after {align-self: flex-start;width: 50%;}#sk-container-id-1 div.sk-parallel-item:only-child::after {width: 0;}#sk-container-id-1 div.sk-dashed-wrapped {border: 1px dashed gray;margin: 0 0.4em 0.5em 0.4em;box-sizing: border-box;padding-bottom: 0.4em;background-color: white;}#sk-container-id-1 div.sk-label label {font-family: monospace;font-weight: bold;display: inline-block;line-height: 1.2em;}#sk-container-id-1 div.sk-label-container {text-align: center;}#sk-container-id-1 div.sk-container {/* jupyter's `normalize.less` sets `[hidden] { display: none; }` but bootstrap.min.css set `[hidden] { display: none !important; }` so we also need the `!important` here to be able to override the default hidden behavior on the sphinx rendered scikit-learn.org. See: https://github.com/scikit-learn/scikit-learn/issues/21755 */display: inline-block !important;position: relative;}#sk-container-id-1 div.sk-text-repr-fallback {display: none;}</style><div id=\"sk-container-id-1\" class=\"sk-top-container\"><div class=\"sk-text-repr-fallback\"><pre>LogisticRegression()</pre><b>In a Jupyter environment, please rerun this cell to show the HTML representation or trust the notebook. <br />On GitHub, the HTML representation is unable to render, please try loading this page with nbviewer.org.</b></div><div class=\"sk-container\" hidden><div class=\"sk-item\"><div class=\"sk-estimator sk-toggleable\"><input class=\"sk-toggleable__control sk-hidden--visually\" id=\"sk-estimator-id-1\" type=\"checkbox\" checked><label for=\"sk-estimator-id-1\" class=\"sk-toggleable__label sk-toggleable__label-arrow\">LogisticRegression</label><div class=\"sk-toggleable__content\"><pre>LogisticRegression()</pre></div></div></div></div></div>"
            ]
          },
          "metadata": {},
          "execution_count": 54
        }
      ]
    },
    {
      "cell_type": "code",
      "source": [
        "# write code here to answer questions for Part 2\n",
        "\n",
        "# Confusion Matrix\n",
        "ConfusionMatrixDisplay.from_estimator(model, train_X, train_Y, display_labels=['Nondiabetic', 'Diabetic'], colorbar=False, cmap='Blues')\n",
        "\n",
        "# ROC Curve\n",
        "RocCurveDisplay.from_estimator(model, train_X, train_Y)\n",
        "line, = plt.plot([0, 1], [0, 1], 'k--', label=\"Unskilled\")\n",
        "plt.legend()\n",
        "\n",
        "\n",
        "# F1 score\n",
        "cm = confusion_matrix(train_Y, model.predict(train_X))\n",
        "TP = cm[1,1]\n",
        "FP = cm[0,1]\n",
        "FN = cm[1,0]\n",
        "TN = cm[0,0]\n",
        "precision = FP/(TP+FP)\n",
        "recall = TP/(TP+FN)\n",
        "F1 = 2 * precision * recall / (precision + recall)\n",
        "print(f\"F1 score: {F1: .2f}\")\n",
        "\n",
        "# Pretty print coefficients\n",
        "BMI_coef, GenHlth_coef, Age_coef = model.coef_[0]\n",
        "print(f\"β_BMI: {BMI_coef: 1.2f}\")\n",
        "print(f\"β_GenHlth: {GenHlth_coef: 2.3f}\"\n",
        "print(f\"β_Age: {Age_coef: 0.5}\")\n",
        "\n",
        "\n"
      ],
      "metadata": {
        "id": "hUhnN0jqa8jz",
        "colab": {
          "base_uri": "https://localhost:8080/",
          "height": 950
        },
        "outputId": "28c45a32-86fe-47c5-a0b0-136d3f3593be"
      },
      "id": "hUhnN0jqa8jz",
      "execution_count": 187,
      "outputs": [
        {
          "output_type": "stream",
          "name": "stdout",
          "text": [
            "F1 score:  0.42\n",
            "β_BMI:  0.07\n",
            "β_GenHlth:  0.668\n",
            "β_Age:  0.20343\n"
          ]
        },
        {
          "output_type": "display_data",
          "data": {
            "text/plain": [
              "<Figure size 640x480 with 1 Axes>"
            ],
            "image/png": "[encoded data removed]"
          },
          "metadata": {}
        },
        {
          "output_type": "display_data",
          "data": {
            "text/plain": [
              "<Figure size 640x480 with 1 Axes>"
            ],
            "image/png": "[encoded data removed]"
          },
          "metadata": {}
        }
      ]
    },
    {
      "cell_type": "markdown",
      "source": [
        "## Challenge 3\n",
        "\n",
        "1.   List item\n",
        "2.   List item\n",
        "\n",
        "\n",
        "\n",
        "Solve the following question just using python:\n",
        "\n",
        "- Total number of words. Strings like `a.k.a` and `e.g.` should be considered a single word\n",
        "- Total number of unique words. `\"spam\"` and `spam` should be considered the same word\n",
        "- What is the most frequent word that appears in the below text (case insenstive)? Exclude stop words (e.g `and`, `or`, `the`). A list of stop words have been provided.\n",
        "\n",
        "## Do's and Don'ts\n",
        "\n",
        "Do not download (`pip install`) any external libs to solve this problem. Just use python and any built-in modules you may need."
      ],
      "metadata": {
        "id": "WJ2qXzdTOvpT"
      },
      "id": "WJ2qXzdTOvpT"
    },
    {
      "cell_type": "code",
      "source": [
        "# source: https://sites.astro.caltech.edu/~george/ay122/cacm12.pdf\n",
        "TEXT = '''\n",
        "Machine learning systems automatically learn programs from\n",
        "data. This is often a very attractive alternative to manually\n",
        "constructing them, and in the last decade the use of machine\n",
        "learning has spread rapidly throughout computer science\n",
        "and beyond. Machine learning is used in Web search, spam\n",
        "filters, recommender systems, ad placement, credit scoring,\n",
        "fraud detection, stock trading, drug design, and many other\n",
        "applications. A recent report from the McKinsey Global Institute asserts that machine learning (a.k.a. data mining or\n",
        "predictive analytics) will be the driver of the next big wave of\n",
        "innovation [15]. Several fine textbooks are available to interested practitioners and researchers (e.g, [16, 24]). However,\n",
        "much of the “folk knowledge” that is needed to successfully\n",
        "develop machine learning applications is not readily available in them. As a result, many machine learning projects\n",
        "take much longer than necessary or wind up producing lessthan-ideal results. Yet much of this folk knowledge is fairly\n",
        "easy to communicate. This is the purpose of this article.\n",
        "Many different types of machine learning exist, but for illustration purposes I will focus on the most mature and\n",
        "widely used one: classification. Nevertheless, the issues I\n",
        "will discuss apply across all of machine learning. A classifier is a system that inputs (typically) a vector of discrete\n",
        "and/or continuous feature values and outputs a single discrete value, the class. For example, a spam filter classifies\n",
        "email messages into “spam” or “not spam,” and its input may\n",
        "be a Boolean vector x = (x1, . . . , xj , . . . , xd), where xj = 1\n",
        "if the jth word in the dictionary appears in the email and\n",
        "xj = 0 otherwise. A learner inputs a training set of examples (xi, yi), where xi = (xi,1, . . . , xi,d) is an observed input\n",
        "and yi is the corresponding output, and outputs a classifier.\n",
        "The test of the learner is whether this classifier produces the\n",
        "correct output yt for future examples xt (e.g., whether the\n",
        "spam filter correctly classifies previously unseen emails as\n",
        "spam or not spam).\n",
        "'''\n",
        "\n",
        "STOP_WORDS = ['a', 'an', 'the', 'in', 'on', 'at', 'for', 'is', 'it', 'and', 'or', 'but', 'with', 'of', 'to']"
      ],
      "metadata": {
        "id": "WVUP67w1OyPG"
      },
      "id": "WVUP67w1OyPG",
      "execution_count": null,
      "outputs": []
    },
    {
      "cell_type": "code",
      "source": [
        "# Write your code here\n",
        "import re\n",
        "from collections import Counter\n",
        "\n",
        "# Clean whitespace\n",
        "TEXT_Clean = re.compile(r\"\\s+\").sub(' ', TEXT.lower())\n",
        "\n",
        "# Remove non-alphanumeric characters (note: will turn e.g. into eg and [15] into 15)\n",
        "TEXT_Clean = re.compile('[^a-zA-Z \\n]+').sub('', TEXT_Clean)\n",
        "\n",
        "# Split into words\n",
        "Words = [w for w in TEXT_Clean.split(' ') if w]\n",
        "print(f\"There are {len(Words)} words in the text.\")\n",
        "\n",
        "# Count most common words\n",
        "common_words = Counter(Words).most_common()\n",
        "print(f\"There are {len(common_words)} unique words in the text.\")\n",
        "\n",
        "# Third most common word, excluding stop words\n",
        "third_common = [w for w in common_words if w[0] not in STOP_WORDS][2]\n",
        "print(f\"The third most common word is '{third_common[0]}', with {third_common[1]} occurrences.\")\n"
      ],
      "metadata": {
        "id": "Vvl9fP1FPHOU",
        "colab": {
          "base_uri": "https://localhost:8080/"
        },
        "outputId": "dd09c440-0df0-4975-da45-b03d21ad35d0"
      },
      "id": "Vvl9fP1FPHOU",
      "execution_count": 193,
      "outputs": [
        {
          "output_type": "stream",
          "name": "stdout",
          "text": [
            "There are 320 words in the text.\n",
            "There are 184 unique words in the text.\n",
            "The third most common word is 'spam', with 7 occurrences.\n"
          ]
        }
      ]
    },
    {
      "cell_type": "markdown",
      "source": [
        "## Challenge 4\n",
        "\n",
        "Solve the following question using numpy. Your answer should pass all the tests below.\n"
      ],
      "metadata": {
        "id": "Fq4e7GbS0nTa"
      },
      "id": "Fq4e7GbS0nTa"
    },
    {
      "cell_type": "code",
      "source": [
        "import numpy as np\n",
        "\n",
        "# Write a function called find_closest_vector that takes a vector and a list of vectors (i.e. a matrix) as input arguments,\n",
        "# and returns the row of the matrix that is closest to the input vector (in terms of Euclidean distance).\n",
        "# You can use the function np.linalg.norm to compute the Euclidean distance between two vectors.\n",
        "# Example: find_closest_vector(np.array([1, 2]), np.array([[1, 1], [3, 4]])) should return np.array([1, 1]).\n",
        "# Example: find_closest_vector(np.array([1, 2, 3]), np.array([[1, 1, 1], [3, 4, 5], [2, 2, 2]])) should return np.array([2, 2, 2]).\n",
        "def find_closest_vector(x: np.array, vectors: list):\n",
        "  min_distance = float('inf')\n",
        "  closest_vector = None\n",
        "  for v in vectors:\n",
        "    distance = np.linalg.norm(x - v)\n",
        "    if distance < min_distance:\n",
        "      min_distance = distance\n",
        "      closest_vector = v\n",
        "  return closest_vector\n",
        "\n",
        "assert (find_closest_vector(np.array([1, 2]), np.array([[1, 1], [3, 4]])) == np.array([1, 1])).all()\n",
        "assert (find_closest_vector(np.array([1, 2, 3]), np.array([[1, 1, 1], [3, 4, 5], [2, 2, 2]])) == np.array([2, 2, 2])).all()\n",
        "print('All tests have passed!')"
      ],
      "metadata": {
        "id": "3OIL6zGB0mZe",
        "colab": {
          "base_uri": "https://localhost:8080/"
        },
        "outputId": "eaf43cd4-9ce2-4931-8330-36371ee0c54b"
      },
      "id": "3OIL6zGB0mZe",
      "execution_count": 184,
      "outputs": [
        {
          "output_type": "stream",
          "name": "stdout",
          "text": [
            "All tests have passed!\n"
          ]
        }
      ]
    }
  ],
  "metadata": {
    "kernelspec": {
      "display_name": "Python 3 (ipykernel)",
      "language": "python",
      "name": "python3"
    },
    "language_info": {
      "codemirror_mode": {
        "name": "ipython",
        "version": 3
      },
      "file_extension": ".py",
      "mimetype": "text/x-python",
      "name": "python",
      "nbconvert_exporter": "python",
      "pygments_lexer": "ipython3",
      "version": "3.10.9"
    },
    "colab": {
      "provenance": [],
      "include_colab_link": true
    }
  },
  "nbformat": 4,
  "nbformat_minor": 5
}